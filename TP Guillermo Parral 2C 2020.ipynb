{
 "cells": [
  {
   "cell_type": "code",
   "execution_count": 1,
   "metadata": {},
   "outputs": [],
   "source": [
    "# Primero leo los CSV para poder armar los datasets\n",
    "import pandas as pd\n",
    "\n",
    "df_train = pd.read_csv(\"./fashion-mnist_train.csv\")\n",
    "df_test = pd.read_csv(\"./fashion-mnist_test.csv\")"
   ]
  },
  {
   "cell_type": "code",
   "execution_count": 2,
   "metadata": {},
   "outputs": [],
   "source": [
    "# Construyo mis datasets. En un principio tomo únicamente el csv de train provisto por Kaggle\n",
    "# pero la idea es hacer k-fold cross-validation con lo cual luego voy a estar variando esto\n",
    "x = df_train.drop(columns=[\"label\"]).values\n",
    "y = df_train[\"label\"].values\n",
    "\n",
    "#x_test = df_test.drop(columns=[\"label\"]).values\n",
    "#y_test = df_test[\"label\"].values"
   ]
  },
  {
   "cell_type": "code",
   "execution_count": 3,
   "metadata": {},
   "outputs": [],
   "source": [
    "# Transformo mi dataset con PCA para reducir la dimensión manteniendo la información más importante\n",
    "from sklearn.decomposition import PCA\n",
    "pca = PCA(n_components=50) # n_components es la cantidad de componentes que mantiene como mínimo la transformación. \n",
    "# Arranqué con una matriz de 60000x784 así que llegar a 60000x50 está bastante bien -> la idea es ir variando esto\n",
    "# a ver cómo va variando el resultado\n",
    "x_transformed = pca.fit_transform(x)\n",
    "#x_test_transformed = pca.fit_transform(x_test)"
   ]
  },
  {
   "cell_type": "code",
   "execution_count": 4,
   "metadata": {},
   "outputs": [
    {
     "data": {
      "text/plain": [
       "array([[-14.642992 , -11.064627 ],\n",
       "       [ 22.373596 , -41.45158  ],\n",
       "       [-26.83103  ,  26.73778  ],\n",
       "       ...,\n",
       "       [  1.2708973,  51.86006  ],\n",
       "       [-19.136173 ,  49.779526 ],\n",
       "       [ 44.825134 , -34.239735 ]], dtype=float32)"
      ]
     },
     "execution_count": 4,
     "metadata": {},
     "output_type": "execute_result"
    }
   ],
   "source": [
    "# Transformo mi dataset con t-SNE para reducir la dimensión manteniendo la información más importante\n",
    "from sklearn.manifold import TSNE\n",
    "tSNE = TSNE(n_components=2)\n",
    "\n",
    "x_tsne = tSNE.fit_transform(x_transformed)\n",
    "x_tsne"
   ]
  },
  {
   "cell_type": "code",
   "execution_count": null,
   "metadata": {},
   "outputs": [
    {
     "name": "stdout",
     "output_type": "stream",
     "text": [
      "0.85925\n",
      "0.8563333333333333\n",
      "0.861\n"
     ]
    }
   ],
   "source": [
    "# Habiendo hecho la tranformación, armo el modelo\n",
    "from sklearn.model_selection import KFold\n",
    "from sklearn.neighbors import KNeighborsClassifier\n",
    "\n",
    "# Quiero hacer k-fold cross validation con mi set de train. Para eso, primero armo los folds y voy aplicando knn\n",
    "kf = KFold(n_splits=5)\n",
    "for train_index, test_index in kf.split(x_tsne):\n",
    "    x_train, x_test = x_transformed[train_index], x_transformed[test_index]\n",
    "    y_train, y_test = y[train_index], y[test_index]\n",
    "    \n",
    "    knn = KNeighborsClassifier(n_neighbors=10)\n",
    "    knn.fit(x_train, y_train)\n",
    "    knn.predict(x_test)\n",
    "    \n",
    "    print(knn.score(x_test, y_test))\n",
    "\n",
    "# n_neighbors es el número de vecinos entre los cuales debe haber \n",
    "# una mayoría para setear el label correspondiente \n",
    "# (ej. si 3 de los 5 vecinos tienen label X entonces el nuevo punto es X)\n",
    "#knn = KNeighborsClassifier(n_neighbors=10)\n",
    "#knn.fit(x_train_transformed, y_train)\n",
    "#knn.predict(x_test_transformed)\n",
    "#knn.score(x_test_transformed, y_test)"
   ]
  },
  {
   "cell_type": "code",
   "execution_count": null,
   "metadata": {},
   "outputs": [],
   "source": []
  }
 ],
 "metadata": {
  "kernelspec": {
   "display_name": "Python 3",
   "language": "python",
   "name": "python3"
  },
  "language_info": {
   "codemirror_mode": {
    "name": "ipython",
    "version": 3
   },
   "file_extension": ".py",
   "mimetype": "text/x-python",
   "name": "python",
   "nbconvert_exporter": "python",
   "pygments_lexer": "ipython3",
   "version": "3.7.3"
  }
 },
 "nbformat": 4,
 "nbformat_minor": 4
}
