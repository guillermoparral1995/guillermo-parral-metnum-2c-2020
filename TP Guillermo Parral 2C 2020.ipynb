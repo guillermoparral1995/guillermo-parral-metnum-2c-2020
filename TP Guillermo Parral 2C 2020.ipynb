{
 "cells": [
  {
   "cell_type": "code",
   "execution_count": 50,
   "metadata": {},
   "outputs": [],
   "source": [
    "# Primero leo los CSV para poder armar los datasets\n",
    "import pandas as pd\n",
    "\n",
    "df_train = pd.read_csv(\"./fashion-mnist_train.csv\")\n",
    "df_test = pd.read_csv(\"./fashion-mnist_test.csv\")"
   ]
  },
  {
   "cell_type": "code",
   "execution_count": 51,
   "metadata": {},
   "outputs": [],
   "source": [
    "# Construyo mis datasets. En un principio tomo únicamente el csv de train provisto por Kaggle\n",
    "# pero la idea es hacer k-fold cross-validation con lo cual luego voy a estar variando esto\n",
    "x_train = df_train.drop(columns=[\"label\"]).values\n",
    "y_train = df_train[\"label\"].values\n",
    "\n",
    "x_test = df_test.drop(columns=[\"label\"]).values\n",
    "y_test = df_test[\"label\"].values"
   ]
  },
  {
   "cell_type": "code",
   "execution_count": 52,
   "metadata": {},
   "outputs": [],
   "source": [
    "# Transformo mi dataset con PCA para reducir la dimensión manteniendo la información más importante\n",
    "from sklearn.decomposition import PCA\n",
    "pca = PCA(n_components=50) # n_components es la cantidad de componentes que mantiene como mínimo la transformación. \n",
    "# Arranqué con una matriz de 60000x784 así que llegar a 60000x50 está bastante bien -> la idea es ir variando esto\n",
    "# a ver cómo va variando el resultado\n",
    "x_train_transformed = pca.fit_transform(x_train)\n",
    "x_test_transformed = pca.fit_transform(x_test)"
   ]
  },
  {
   "cell_type": "code",
   "execution_count": null,
   "metadata": {},
   "outputs": [],
   "source": [
    "# Habiendo hecho la tranformación, armo el modelo\n",
    "from sklearn.neighbors import KNeighborsClassifier\n",
    "# n_neighbors es el número de vecinos entre los cuales debe haber \n",
    "# una mayoría para setear el label correspondiente \n",
    "# (ej. si 3 de los 5 vecinos tienen label X entonces el nuevo punto es X)\n",
    "knn = KNeighborsClassifier(n_neighbors=10)\n",
    "knn.fit(x_train_transformed, y_train)\n",
    "knn.predict(x_test_transformed)\n",
    "knn.score(x_test_transformed, y_test)"
   ]
  },
  {
   "cell_type": "code",
   "execution_count": null,
   "metadata": {},
   "outputs": [],
   "source": []
  }
 ],
 "metadata": {
  "kernelspec": {
   "display_name": "Python 3",
   "language": "python",
   "name": "python3"
  },
  "language_info": {
   "codemirror_mode": {
    "name": "ipython",
    "version": 3
   },
   "file_extension": ".py",
   "mimetype": "text/x-python",
   "name": "python",
   "nbconvert_exporter": "python",
   "pygments_lexer": "ipython3",
   "version": "3.7.3"
  }
 },
 "nbformat": 4,
 "nbformat_minor": 4
}
